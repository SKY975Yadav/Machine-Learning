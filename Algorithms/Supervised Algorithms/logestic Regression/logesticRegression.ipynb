{
 "cells": [
  {
   "cell_type": "code",
   "execution_count": 30,
   "id": "7293ef57-b4ac-4e3b-acc2-795d9bcd6a80",
   "metadata": {},
   "outputs": [
    {
     "name": "stdout",
     "output_type": "stream",
     "text": [
      "OvR Accuracy: 100.00%\n",
      "Classification Report for OvR:\n",
      "              precision    recall  f1-score   support\n",
      "\n",
      "           0       1.00      1.00      1.00        10\n",
      "           1       1.00      1.00      1.00         9\n",
      "           2       1.00      1.00      1.00        11\n",
      "\n",
      "    accuracy                           1.00        30\n",
      "   macro avg       1.00      1.00      1.00        30\n",
      "weighted avg       1.00      1.00      1.00        30\n",
      "\n"
     ]
    },
    {
     "name": "stderr",
     "output_type": "stream",
     "text": [
      "C:\\Users\\BAPS\\AppData\\Local\\Programs\\Python\\Python312\\Lib\\site-packages\\sklearn\\linear_model\\_logistic.py:1256: FutureWarning: 'multi_class' was deprecated in version 1.5 and will be removed in 1.7. Use OneVsRestClassifier(LogisticRegression(..)) instead. Leave it to its default value to avoid this warning.\n",
      "  warnings.warn(\n"
     ]
    }
   ],
   "source": [
    "import numpy as np\n",
    "import pandas as pd\n",
    "from sklearn.datasets import load_iris\n",
    "from sklearn.model_selection import train_test_split\n",
    "from sklearn.linear_model import LogisticRegression\n",
    "from sklearn.metrics import accuracy_score, classification_report\n",
    "\n",
    "# Load the Iris dataset\n",
    "iris = load_iris()\n",
    "X = iris['data']\n",
    "y = iris['target']\n",
    "\n",
    "# Split into train and test sets\n",
    "X_train, X_test, y_train, y_test = train_test_split(X, y, test_size=0.2, random_state=42)\n",
    "\n",
    "# One-vs-Rest (OvR) Logistic Regression\n",
    "ovr_model = LogisticRegression(multi_class='ovr', solver='liblinear')\n",
    "ovr_model.fit(X_train, y_train)\n",
    "\n",
    "# Make predictions\n",
    "y_pred_ovr = ovr_model.predict(X_test)\n",
    "\n",
    "# Evaluate the model\n",
    "accuracy_ovr = accuracy_score(y_test, y_pred_ovr)\n",
    "print(f'OvR Accuracy: {accuracy_ovr * 100:.2f}%')\n",
    "print(f'Classification Report for OvR:\\n{classification_report(y_test, y_pred_ovr)}')\n"
   ]
  },
  {
   "cell_type": "code",
   "execution_count": 31,
   "id": "4040f9b9-92f5-494f-8cec-00e435162803",
   "metadata": {},
   "outputs": [
    {
     "name": "stdout",
     "output_type": "stream",
     "text": [
      "Softmax Accuracy: 100.00%\n",
      "Classification Report for Softmax:\n",
      "              precision    recall  f1-score   support\n",
      "\n",
      "           0       1.00      1.00      1.00        10\n",
      "           1       1.00      1.00      1.00         9\n",
      "           2       1.00      1.00      1.00        11\n",
      "\n",
      "    accuracy                           1.00        30\n",
      "   macro avg       1.00      1.00      1.00        30\n",
      "weighted avg       1.00      1.00      1.00        30\n",
      "\n"
     ]
    },
    {
     "name": "stderr",
     "output_type": "stream",
     "text": [
      "C:\\Users\\BAPS\\AppData\\Local\\Programs\\Python\\Python312\\Lib\\site-packages\\sklearn\\linear_model\\_logistic.py:1247: FutureWarning: 'multi_class' was deprecated in version 1.5 and will be removed in 1.7. From then on, it will always use 'multinomial'. Leave it to its default value to avoid this warning.\n",
      "  warnings.warn(\n"
     ]
    }
   ],
   "source": [
    "# Softmax (Multinomial Logistic Regression)\n",
    "softmax_model = LogisticRegression(multi_class='multinomial', solver='lbfgs')\n",
    "softmax_model.fit(X_train, y_train)\n",
    "\n",
    "# Make predictions\n",
    "y_pred_softmax = softmax_model.predict(X_test)\n",
    "\n",
    "# Evaluate the model\n",
    "accuracy_softmax = accuracy_score(y_test, y_pred_softmax)\n",
    "print(f'Softmax Accuracy: {accuracy_softmax * 100:.2f}%')\n",
    "print(f'Classification Report for Softmax:\\n{classification_report(y_test, y_pred_softmax)}')\n"
   ]
  },
  {
   "cell_type": "code",
   "execution_count": null,
   "id": "31015b67-9f5d-444d-b3ff-83ec54396313",
   "metadata": {},
   "outputs": [],
   "source": []
  }
 ],
 "metadata": {
  "kernelspec": {
   "display_name": "Python 3 (ipykernel)",
   "language": "python",
   "name": "python3"
  },
  "language_info": {
   "codemirror_mode": {
    "name": "ipython",
    "version": 3
   },
   "file_extension": ".py",
   "mimetype": "text/x-python",
   "name": "python",
   "nbconvert_exporter": "python",
   "pygments_lexer": "ipython3",
   "version": "3.12.2"
  }
 },
 "nbformat": 4,
 "nbformat_minor": 5
}
