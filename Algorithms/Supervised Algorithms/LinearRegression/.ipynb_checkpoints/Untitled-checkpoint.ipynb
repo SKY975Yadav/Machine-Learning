{
 "cells": [
  {
   "cell_type": "code",
   "execution_count": 1,
   "id": "355f7377-bc1c-487a-b34e-9683ac873128",
   "metadata": {},
   "outputs": [],
   "source": [
    "import numpy as np\n",
    "from sklearn.linear_model import LinearRegression"
   ]
  },
  {
   "cell_type": "code",
   "execution_count": 2,
   "id": "312b6e41-069b-447c-983d-84a9c963cfb0",
   "metadata": {},
   "outputs": [],
   "source": [
    "# Sample data\n",
    "X = np.array([[1], [2], [3], [4], [5]])  # Hours studied\n",
    "y = np.array([2, 4, 5, 4, 5])  # Scores"
   ]
  },
  {
   "cell_type": "code",
   "execution_count": 5,
   "id": "4118ad73-ff8e-4aa8-90ee-71a30d9b4cbb",
   "metadata": {},
   "outputs": [
    {
     "name": "stdout",
     "output_type": "stream",
     "text": [
      "Slope / coffeint  0.6\n",
      "Intercet  2.2\n",
      "[5.8]\n"
     ]
    }
   ],
   "source": [
    "# Initialize and fit the model\n",
    "model = LinearRegression()\n",
    "model.fit(X, y)\n",
    "\n",
    "# Predict scores for new data\n",
    "X_new = np.array([[6]])\n",
    "y_pred = model.predict(X_new)\n",
    "\n",
    "print(\"Slope / coffeint \" ,model.coef_[0])\n",
    "print(\"Intercet \", model.intercept_)\n",
    "print(y_pred)"
   ]
  },
  {
   "cell_type": "code",
   "execution_count": null,
   "id": "3bc99a08-4841-4fca-9559-d03b32f465eb",
   "metadata": {},
   "outputs": [],
   "source": []
  }
 ],
 "metadata": {
  "kernelspec": {
   "display_name": "Python 3 (ipykernel)",
   "language": "python",
   "name": "python3"
  },
  "language_info": {
   "codemirror_mode": {
    "name": "ipython",
    "version": 3
   },
   "file_extension": ".py",
   "mimetype": "text/x-python",
   "name": "python",
   "nbconvert_exporter": "python",
   "pygments_lexer": "ipython3",
   "version": "3.12.2"
  }
 },
 "nbformat": 4,
 "nbformat_minor": 5
}
