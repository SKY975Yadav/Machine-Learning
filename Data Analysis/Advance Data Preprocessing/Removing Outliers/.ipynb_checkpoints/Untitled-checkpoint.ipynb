{
 "cells": [
  {
   "cell_type": "markdown",
   "id": "c7bd645a-2bb2-4ca4-abe8-700f657123d0",
   "metadata": {},
   "source": [
    "# Interquartile Range (IQR)"
   ]
  },
  {
   "cell_type": "code",
   "execution_count": 1,
   "id": "df011997-aa7b-4013-88f0-586a6f20c314",
   "metadata": {},
   "outputs": [
    {
     "name": "stdout",
     "output_type": "stream",
     "text": [
      "Outliers using IQR method:\n",
      "    Value\n",
      "9    100\n"
     ]
    }
   ],
   "source": [
    "#The Interquartile Range (IQR) is a measure of statistical dispersion, which is the spread of the middle 50% of a dataset. The IQR is calculated as the difference between the third quartile (Q3) and the first quartile (Q1).\n",
    "\n",
    "# Steps to Identify Outliers Using IQR:\n",
    "# Calculate Q1 (25th percentile) and Q3 (75th percentile).\n",
    "# Calculate the IQR:\n",
    "# IQR=𝑄3−𝑄1\n",
    "# IQR=Q3−Q1\n",
    "# Determine the Lower and Upper Bounds:\n",
    "# Lower bound = 𝑄1−1.5×IQR\n",
    "# Upper bound = 𝑄3+1.5×IQR\n",
    "# Identify outliers: Any data point that is lower than the lower bound or higher than the upper bound is considered an outlier.\n",
    "\n",
    "import numpy as np\n",
    "import pandas as pd\n",
    "\n",
    "# Example data\n",
    "data = [10, 12, 14, 15, 18, 22, 24, 28, 30, 100]  # 100 is an outlier\n",
    "df = pd.DataFrame(data, columns=['Value'])\n",
    "\n",
    "# Calculate Q1 (25th percentile) and Q3 (75th percentile)\n",
    "Q1 = df['Value'].quantile(0.25)\n",
    "Q3 = df['Value'].quantile(0.75)\n",
    "\n",
    "# Calculate IQR\n",
    "IQR = Q3 - Q1\n",
    "\n",
    "# Calculate bounds\n",
    "lower_bound = Q1 - 1.5 * IQR\n",
    "upper_bound = Q3 + 1.5 * IQR\n",
    "\n",
    "# Identify outliers\n",
    "outliers = df[(df['Value'] < lower_bound) | (df['Value'] > upper_bound)]\n",
    "print(\"Outliers using IQR method:\\n\", outliers)\n"
   ]
  },
  {
   "cell_type": "code",
   "execution_count": 2,
   "id": "03209bba-304f-489e-ba2d-544d0f716f2f",
   "metadata": {},
   "outputs": [
    {
     "name": "stdout",
     "output_type": "stream",
     "text": [
      "Outliers using Z-score method:\n",
      " Empty DataFrame\n",
      "Columns: [Value, Z-score]\n",
      "Index: []\n"
     ]
    }
   ],
   "source": [
    "# The Z-score measures how many standard deviations a data point is from the mean. The Z-score of a data point is calculated as:\n",
    "# 𝑍=(𝑋−𝜇)/𝜎\n",
    "# Where:\n",
    "# X is the data point,\n",
    "# μ is the mean of the data,\n",
    "# σ is the standard deviation.\n",
    "\n",
    "# Steps to Identify Outliers Using Z-score:\n",
    "# Calculate the mean and standard deviation of the dataset.\n",
    "# Calculate the Z-score for each data point.\n",
    "# Identify outliers: A data point is considered an outlier if its Z-score is above a certain threshold, commonly 3 or -3 (i.e., 3 standard deviations away from the mean).\n",
    "\n",
    "from scipy import stats\n",
    "\n",
    "# Example data\n",
    "data = [10, 12, 14, 15, 18, 22, 24, 28, 30, 100]  # 100 is an outlier\n",
    "df = pd.DataFrame(data, columns=['Value'])\n",
    "\n",
    "# Calculate the Z-scores\n",
    "df['Z-score'] = stats.zscore(df['Value'])\n",
    "\n",
    "# Identify outliers with Z-score > 3 or < -3\n",
    "outliers = df[(df['Z-score'] > 3) | (df['Z-score'] < -3)]\n",
    "print(\"Outliers using Z-score method:\\n\", outliers)\n"
   ]
  },
  {
   "cell_type": "code",
   "execution_count": 3,
   "id": "a23398c0-6391-48cb-b250-cac033ad3c01",
   "metadata": {},
   "outputs": [
    {
     "name": "stdout",
     "output_type": "stream",
     "text": [
      "Covariance Matrix:\n",
      " [[250. 250.]\n",
      " [250. 250.]]\n"
     ]
    }
   ],
   "source": [
    "# Understanding Correlation and Covariance\n",
    "import numpy as np\n",
    "\n",
    "# Sample data\n",
    "height = [150, 160, 170, 180, 190]\n",
    "weight = [50, 60, 70, 80, 90]\n",
    "\n",
    "# Calculate covariance\n",
    "cov_matrix = np.cov(height, weight)\n",
    "print(\"Covariance Matrix:\\n\", cov_matrix)\n"
   ]
  },
  {
   "cell_type": "code",
   "execution_count": 4,
   "id": "823849ab-a8d9-4d25-8485-3b72e840f27e",
   "metadata": {},
   "outputs": [
    {
     "name": "stdout",
     "output_type": "stream",
     "text": [
      "Correlation Matrix:\n",
      " [[1. 1.]\n",
      " [1. 1.]]\n"
     ]
    }
   ],
   "source": [
    "import numpy as np\n",
    "\n",
    "# Sample data\n",
    "height = [150, 160, 170, 180, 190]\n",
    "weight = [50, 60, 70, 80, 90]\n",
    "\n",
    "# Calculate correlation\n",
    "corr_matrix = np.corrcoef(height, weight)\n",
    "print(\"Correlation Matrix:\\n\", corr_matrix)\n"
   ]
  },
  {
   "cell_type": "code",
   "execution_count": null,
   "id": "04f06eb5-cf0b-4477-abb5-c9a3a7a28dee",
   "metadata": {},
   "outputs": [],
   "source": []
  }
 ],
 "metadata": {
  "kernelspec": {
   "display_name": "Python 3 (ipykernel)",
   "language": "python",
   "name": "python3"
  },
  "language_info": {
   "codemirror_mode": {
    "name": "ipython",
    "version": 3
   },
   "file_extension": ".py",
   "mimetype": "text/x-python",
   "name": "python",
   "nbconvert_exporter": "python",
   "pygments_lexer": "ipython3",
   "version": "3.12.2"
  }
 },
 "nbformat": 4,
 "nbformat_minor": 5
}
