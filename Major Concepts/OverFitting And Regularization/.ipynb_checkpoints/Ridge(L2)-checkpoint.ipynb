{
 "cells": [
  {
   "cell_type": "code",
   "execution_count": null,
   "id": "02e54744-926c-4f18-80d0-f2d5f51c33d9",
   "metadata": {},
   "outputs": [],
   "source": []
  }
 ],
 "metadata": {
  "kernelspec": {
   "display_name": "",
   "name": ""
  },
  "language_info": {
   "name": ""
  }
 },
 "nbformat": 4,
 "nbformat_minor": 5
}
