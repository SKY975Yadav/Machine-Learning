{
 "cells": [
  {
   "cell_type": "code",
   "execution_count": 11,
   "id": "5af9acb7-cb45-4a49-9b89-a34db2cc276b",
   "metadata": {},
   "outputs": [
    {
     "name": "stdout",
     "output_type": "stream",
     "text": [
      "Original Data:\n",
      "   NumericFeature CategoricalFeature  Target\n",
      "0            10.0                  A       1\n",
      "1            15.0                  B       0\n",
      "2             NaN                  A       1\n",
      "3            30.0                NaN       1\n",
      "4             NaN                  B       0\n",
      "5            45.0                NaN       0\n",
      "\n",
      "Data after Imputation:\n",
      "   NumericFeature CategoricalFeature  Target  NumericFeature_Mean  \\\n",
      "0            10.0                  A       1                 10.0   \n",
      "1            15.0                  B       0                 15.0   \n",
      "2             NaN                  A       1                 25.0   \n",
      "3            30.0                NaN       1                 30.0   \n",
      "4             NaN                  B       0                 25.0   \n",
      "5            45.0                NaN       0                 45.0   \n",
      "\n",
      "   NumericFeature_Median CategoricalFeature_Mode  \n",
      "0                   10.0                       A  \n",
      "1                   15.0                       B  \n",
      "2                   22.5                       A  \n",
      "3                   30.0                       A  \n",
      "4                   22.5                       B  \n",
      "5                   45.0                       A  \n"
     ]
    }
   ],
   "source": [
    "import pandas as pd\n",
    "import numpy as np\n",
    "from sklearn.impute import SimpleImputer\n",
    "\n",
    "# Sample dataset with missing values\n",
    "data = {    \n",
    "    'NumericFeature': [10, 15, None, 30, None, 45],    \n",
    "    'CategoricalFeature': ['A', 'B', 'A', None, 'B', None],    \n",
    "    'Target': [1, 0, 1, 1, 0, 0]\n",
    "}\n",
    "df = pd.DataFrame(data)\n",
    "\n",
    "# Replace None with np.nan\n",
    "df.replace({None: np.nan}, inplace=True)\n",
    "\n",
    "# Display initial data\n",
    "print(\"Original Data:\")\n",
    "print(df)\n",
    "\n",
    "# 1. Mean/Median Imputation for Numeric Features\n",
    "# Mean Imputation\n",
    "mean_imputer = SimpleImputer(strategy='mean')\n",
    "df['NumericFeature_Mean'] = mean_imputer.fit_transform(df[['NumericFeature']])\n",
    "\n",
    "# Median Imputation\n",
    "median_imputer = SimpleImputer(strategy='median')\n",
    "df['NumericFeature_Median'] = median_imputer.fit_transform(df[['NumericFeature']])\n",
    "\n",
    "# 2. Mode Imputation for Categorical Features\n",
    "mode_imputer = SimpleImputer(strategy='most_frequent')\n",
    "df['CategoricalFeature_Mode'] = mode_imputer.fit_transform(df[['CategoricalFeature']]).flatten()\n",
    "\n",
    "# Display results\n",
    "print(\"\\nData after Imputation:\")\n",
    "print(df)\n"
   ]
  },
  {
   "cell_type": "code",
   "execution_count": null,
   "id": "9c49ec84-0ec4-40f9-9b42-d4440f63607c",
   "metadata": {},
   "outputs": [],
   "source": []
  }
 ],
 "metadata": {
  "kernelspec": {
   "display_name": "Python 3 (ipykernel)",
   "language": "python",
   "name": "python3"
  },
  "language_info": {
   "codemirror_mode": {
    "name": "ipython",
    "version": 3
   },
   "file_extension": ".py",
   "mimetype": "text/x-python",
   "name": "python",
   "nbconvert_exporter": "python",
   "pygments_lexer": "ipython3",
   "version": "3.12.2"
  }
 },
 "nbformat": 4,
 "nbformat_minor": 5
}
