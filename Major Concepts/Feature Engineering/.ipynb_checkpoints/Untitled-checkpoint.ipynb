{
 "cells": [
  {
   "cell_type": "code",
   "execution_count": 1,
   "id": "9e0db12b-9084-45b0-a1f0-a5eb21710f50",
   "metadata": {},
   "outputs": [
    {
     "name": "stdout",
     "output_type": "stream",
     "text": [
      "     Size  Size_Encoded\n",
      "0   Small             2\n",
      "1  Medium             1\n",
      "2   Large             0\n",
      "3  Medium             1\n",
      "4   Small             2\n"
     ]
    }
   ],
   "source": [
    "import pandas as pd\n",
    "from sklearn.preprocessing import LabelEncoder\n",
    "\n",
    "# Sample data\n",
    "data = {'Size': ['Small', 'Medium', 'Large', 'Medium', 'Small']}\n",
    "df = pd.DataFrame(data)\n",
    "\n",
    "# Label Encoding\n",
    "label_encoder = LabelEncoder()\n",
    "df['Size_Encoded'] = label_encoder.fit_transform(df['Size'])\n",
    "\n",
    "print(df)\n"
   ]
  },
  {
   "cell_type": "code",
   "execution_count": 2,
   "id": "de9ca2c6-657b-4e9f-a641-33bb4fa21db0",
   "metadata": {},
   "outputs": [
    {
     "name": "stdout",
     "output_type": "stream",
     "text": [
      "   Color_Blue  Color_Green  Color_Red\n",
      "0       False        False       True\n",
      "1        True        False      False\n",
      "2       False         True      False\n",
      "3        True        False      False\n",
      "4       False        False       True\n"
     ]
    }
   ],
   "source": [
    "import pandas as pd\n",
    "\n",
    "# Sample data\n",
    "data = {'Color': ['Red', 'Blue', 'Green', 'Blue', 'Red']}\n",
    "df = pd.DataFrame(data)\n",
    "\n",
    "# One-Hot Encoding\n",
    "df_encoded = pd.get_dummies(df, columns=['Color'])\n",
    "\n",
    "print(df_encoded)\n"
   ]
  },
  {
   "cell_type": "code",
   "execution_count": 3,
   "id": "6dd47126-06a9-4711-ba30-96466a42da4e",
   "metadata": {},
   "outputs": [
    {
     "name": "stdout",
     "output_type": "stream",
     "text": [
      "  Category  Target  Category_Target_Encoded\n",
      "0        A       1                 1.333333\n",
      "1        B       2                 2.500000\n",
      "2        A       1                 1.333333\n",
      "3        A       2                 1.333333\n",
      "4        B       3                 2.500000\n",
      "5        C       2                 2.000000\n"
     ]
    }
   ],
   "source": [
    "import pandas as pd\n",
    "\n",
    "# Sample data\n",
    "data = {'Category': ['A', 'B', 'A', 'A', 'B', 'C'],\n",
    "        'Target': [1, 2, 1, 2, 3, 2]}\n",
    "df = pd.DataFrame(data)\n",
    "\n",
    "# Target Encoding\n",
    "target_mean = df.groupby('Category')['Target'].mean()\n",
    "df['Category_Target_Encoded'] = df['Category'].map(target_mean)\n",
    "\n",
    "print(df)\n"
   ]
  },
  {
   "cell_type": "code",
   "execution_count": null,
   "id": "e10642cc-7a37-4692-b1d8-d0036824df6a",
   "metadata": {},
   "outputs": [],
   "source": []
  }
 ],
 "metadata": {
  "kernelspec": {
   "display_name": "Python 3 (ipykernel)",
   "language": "python",
   "name": "python3"
  },
  "language_info": {
   "codemirror_mode": {
    "name": "ipython",
    "version": 3
   },
   "file_extension": ".py",
   "mimetype": "text/x-python",
   "name": "python",
   "nbconvert_exporter": "python",
   "pygments_lexer": "ipython3",
   "version": "3.12.2"
  }
 },
 "nbformat": 4,
 "nbformat_minor": 5
}
