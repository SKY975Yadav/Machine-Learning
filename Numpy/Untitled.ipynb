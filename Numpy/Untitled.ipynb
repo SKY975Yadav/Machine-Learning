{
 "cells": [
  {
   "cell_type": "code",
   "execution_count": 2,
   "id": "ddf8cc0f-0623-4017-86b6-0a870bd3bd13",
   "metadata": {},
   "outputs": [],
   "source": [
    "import numpy as np;"
   ]
  },
  {
   "cell_type": "code",
   "execution_count": 19,
   "id": "540a67f0-7f5c-45fd-ba29-d3000fb175f9",
   "metadata": {},
   "outputs": [],
   "source": [
    "#Significance difference between python and numpy in terms of Space and Time"
   ]
  },
  {
   "cell_type": "code",
   "execution_count": 15,
   "id": "81423031-9e74-4e7e-b7bf-96983c8160a5",
   "metadata": {},
   "outputs": [
    {
     "name": "stdout",
     "output_type": "stream",
     "text": [
      "size of arrlist 8000056 bytes\n",
      "size of arrnumpy 8000000 bytes\n",
      "Total time for excuting python list is 102.02264785766602 milliseconds\n",
      "Total time for excuting python numpy is 0.0 milliseconds\n"
     ]
    }
   ],
   "source": [
    "import sys\n",
    "# In Terms of Space\n",
    "arrlist = list(range(1000000))\n",
    "arrnumpy = np.arange(1000000);\n",
    "print(f\"size of arrlist { sys.getsizeof(arrlist)} bytes\")\n",
    "print(f\"size of arrnumpy {arrnumpy.nbytes} bytes\")\n",
    "\n",
    "# In Terms of Time \n",
    "import time\n",
    "# Calulating list time\n",
    "lstartTime = time.time()\n",
    "lsumlist = sum(arrlist)\n",
    "lendTime = time.time()\n",
    "sumlistTime = (lendTime - lstartTime) * 1000\n",
    "\n",
    "# Calculating numpy time\n",
    "nstartTime = time.time()\n",
    "nsumlist = np.sum(arrnumpy)\n",
    "nendTime = time.time()\n",
    "sumnumpyTime = (nendTime - nstartTime) * 1000\n",
    "\n",
    "print(f\"Total time for excuting python list is {sumlistTime} milliseconds\")\n",
    "print(f\"Total time for excuting python numpy is {sumnumpyTime} milliseconds\")"
   ]
  },
  {
   "cell_type": "markdown",
   "id": "131ec6ac-add8-4ef3-8ee0-7637a43fbfe8",
   "metadata": {},
   "source": [
    "# Numpy Arrays\n",
    "## np.arange()"
   ]
  },
  {
   "cell_type": "code",
   "execution_count": 14,
   "id": "1d6eb816-eb30-4dda-90cb-108c048941a2",
   "metadata": {},
   "outputs": [
    {
     "name": "stdout",
     "output_type": "stream",
     "text": [
      "[0 1 2 3 4 5 6 7 8 9]\n"
     ]
    }
   ],
   "source": [
    "num = np.arange(10)\n",
    "print(num);"
   ]
  },
  {
   "cell_type": "code",
   "execution_count": 28,
   "id": "c344dd0a-fb00-498b-93e4-7d884de587ac",
   "metadata": {},
   "outputs": [
    {
     "name": "stdout",
     "output_type": "stream",
     "text": [
      "[[2 5 6]\n",
      " [3 7 8]]\n",
      "[ 2  3  4  5  6  7  8  9 10 11 12]\n",
      "11\n"
     ]
    }
   ],
   "source": [
    "# Propertites of Array\n",
    "\n",
    "#Shape :\n",
    "arr1 = np.array([[2,5,6],[3,7,8]],dtype=np.int32)\n",
    "print(arr1)\n",
    "\n",
    "arr2 = np.arange(2,13)\n",
    "print(arr2)\n",
    "\n",
    "print(arr2.size)\n",
    "print(arr2.itemsize)"
   ]
  },
  {
   "cell_type": "code",
   "execution_count": 33,
   "id": "924cab4d-3b18-4aae-a2a5-c2de1752f829",
   "metadata": {},
   "outputs": [
    {
     "name": "stdout",
     "output_type": "stream",
     "text": [
      "[[0. 0. 0. 0. 0.]\n",
      " [0. 0. 0. 0. 0.]]\n",
      "[['' '' '']\n",
      " ['' '' '']]\n",
      "[[[10. 10. 10.]\n",
      "  [10. 10. 10.]\n",
      "  [10. 10. 10.]\n",
      "  [10. 10. 10.]]\n",
      "\n",
      " [[10. 10. 10.]\n",
      "  [10. 10. 10.]\n",
      "  [10. 10. 10.]\n",
      "  [10. 10. 10.]]]\n"
     ]
    }
   ],
   "source": [
    "# np zeros ones full\n",
    "arzeros = np.zeros((2,5),float)\n",
    "print(arzeros)\n",
    "\n",
    "arones = np.zeros((2,3),str)\n",
    "print(arones)\n",
    "\n",
    "arfull = np.full((2,4,3),10,float)\n",
    "print(arfull)"
   ]
  },
  {
   "cell_type": "code",
   "execution_count": 57,
   "id": "63f09c6b-afbb-4b9c-b5a9-d13205025dbe",
   "metadata": {},
   "outputs": [
    {
     "name": "stdout",
     "output_type": "stream",
     "text": [
      "5\n",
      "[[3 5]\n",
      " [8 9]]\n",
      "7\n"
     ]
    }
   ],
   "source": [
    "# Slicing and Indinxing\n",
    "# 1D\n",
    "arr = np.array([3,5,6,8,10])\n",
    "print(arr[3],arr[0])\n",
    "print(arr[2:4])\n",
    "print(arr[0:5:2])\n",
    "print(arr[-1],arr[-5])\n",
    "print(arr[:3] , arr[2:], arr[ : : 2])\n",
    "\n",
    "\n",
    "#2D \n",
    "\n",
    "tdArr = np.array([ [1,3,5],\n",
    "          [7,8,9] ])\n",
    "print(tdArr[0,2])\n",
    "\n",
    "print(tdArr[0:2,1:3])\n",
    "print(tdArr[-1,-3])\n",
    "\n",
    "\n"
   ]
  },
  {
   "cell_type": "code",
   "execution_count": 62,
   "id": "04483d58-0b19-406c-b6fe-0dcfdd41635d",
   "metadata": {},
   "outputs": [
    {
     "name": "stdout",
     "output_type": "stream",
     "text": [
      "[ 5  7  9 10]\n",
      "[1 2 5]\n"
     ]
    }
   ],
   "source": [
    "# Advance slicing and indexing\n",
    "\n",
    "# Boolean indexing\n",
    "\n",
    "arrT = np.array([1,5,7,2,9,10])\n",
    "mask = arrT > 3;\n",
    "selelem = arrT[mask]\n",
    "print(selelem)\n",
    "# print(arrT[arrT > 3])\n",
    "\n",
    "# Fancy Slicing\n",
    "ind = [0,3,1]\n",
    "print(arrT[ind])"
   ]
  },
  {
   "cell_type": "code",
   "execution_count": 74,
   "id": "b93f68a0-e073-441c-9e57-4a3594ad0667",
   "metadata": {},
   "outputs": [
    {
     "name": "stdout",
     "output_type": "stream",
     "text": [
      "[[[ 1  2  3  4]\n",
      "  [ 5  6  7  8]\n",
      "  [ 9 10 11 12]]\n",
      "\n",
      " [[13 14 15 16]\n",
      "  [17 18 19 20]\n",
      "  [21 22 23 24]]]\n",
      "[[[ 1  2  3  4]\n",
      "  [13 14 15 16]]\n",
      "\n",
      " [[ 5  6  7  8]\n",
      "  [17 18 19 20]]\n",
      "\n",
      " [[ 9 10 11 12]\n",
      "  [21 22 23 24]]]\n"
     ]
    }
   ],
   "source": [
    "# Transporting and swapaxes\n",
    "# 2D :\n",
    "# arr2d = np.array([[1,2,3],\n",
    "#                  [4,5,6]])\n",
    "# arrTransp = arr2d.T;\n",
    "# print(arrTransp)\n",
    "\n",
    "# swapaxes = arr2d.swapaxes(1,0)\n",
    "# print(swapaxes)\n",
    "\n",
    "#3d : \n",
    "arr3d = np.array([ [ \n",
    "                     [1,2,3,4],\n",
    "                     [5,6,7,8],\n",
    "                     [9,10,11,12]\n",
    "                   ],\n",
    "                   [\n",
    "                     [13,14,15,16],\n",
    "                     [17,18,19,20],\n",
    "                     [21,22,23,24]\n",
    "                   ]\n",
    "                 ])\n",
    "print(arr3d)\n",
    "afterswap = arr3d.swapaxes(0,1)\n",
    "print(afterswap)"
   ]
  },
  {
   "cell_type": "code",
   "execution_count": 6,
   "id": "ec3c827e-1ded-469a-a0f9-92f90f72a503",
   "metadata": {},
   "outputs": [
    {
     "name": "stdout",
     "output_type": "stream",
     "text": [
      "[99  6 51 26 13 76  8 87 74 71]\n"
     ]
    }
   ],
   "source": [
    "# pseudo Number Generation\n",
    "rintegers = np.random.randint(1,100,size = 10)\n",
    "print(rintegers)\n",
    "rdistribution "
   ]
  },
  {
   "cell_type": "code",
   "execution_count": 13,
   "id": "f337a863-4986-4d05-9aad-ace2b3c96637",
   "metadata": {},
   "outputs": [
    {
     "name": "stdout",
     "output_type": "stream",
     "text": [
      "45\n",
      "9\n",
      "1\n",
      "5.0\n"
     ]
    }
   ],
   "source": [
    "# Operations on 2D array \n",
    "\n",
    "# Matrix multilication \n",
    "mata = np.array([ [1,3,5],\n",
    "                  [2,4,6],\n",
    "                  [8,1,3]\n",
    "                ])\n",
    "\n",
    "matb = np.array([  [2,4,5],\n",
    "                   [1,6,2],\n",
    "                   [3,6,5]\n",
    "                ])\n",
    "result = np.matmul(mata,matb)\n",
    "# print(result)\n",
    "\n",
    "# Reshape \n",
    "arr = np.arange(1,10)\n",
    "reshapeArray1 = arr.reshape((3,3))\n",
    "# print(reshapeArray1)\n",
    "reshapeArray2 = mata.reshape((1,9))\n",
    "# print(reshapeArray2)\n",
    "\n",
    "# Transport\n",
    "mat1 = np.array([ [1,3,5],\n",
    "                  [2,4,6]\n",
    "                ])\n",
    "matT = mat1.T;\n",
    "# print(matT)\n",
    "\n",
    "# Agrregate functions\n",
    "\n",
    "print(np.sum(arr))\n",
    "print(np.max(arr))\n",
    "print(np.min(arr))\n",
    "print(np.mean(arr))\n",
    "\n"
   ]
  },
  {
   "cell_type": "code",
   "execution_count": 49,
   "id": "8ad94a1a-7c8a-4426-bae8-a4e30ac58abe",
   "metadata": {},
   "outputs": [
    {
     "name": "stdout",
     "output_type": "stream",
     "text": [
      "[4 6 7 3 7]\n"
     ]
    }
   ],
   "source": [
    "# Universal functions\n",
    "\n",
    "# Basic Arithmetic Operations\n",
    "\n",
    "# arr = np.array([1,2,3,4,5])\n",
    "# arradd = np.add(arr,2)\n",
    "# print(arradd)\n",
    "# arrsub = np.subtract(arr,2)\n",
    "# print(arrAdd)\n",
    "# arrmul = np.multiply(arr,2)\n",
    "# print(arrAdd)\n",
    "# arrdiv = np.divide(arr,2)\n",
    "# print(arrdiv)\n",
    "# arrmod = np.mod(arr,2)\n",
    "# print(arrmod)\n",
    "\n",
    "# Relational operator\n",
    "ar1 = np.array([1,2,3,5])\n",
    "ar2 = np.array([2,3,4,5])\n",
    "eq = ar1 == ar2\n",
    "# print(eq)\n",
    "# similarly : !=  , > , < , >= , <=\n",
    "# print(np.greater(ar1,ar2))\n",
    "# print(np.less_equal(ar1,ar2))\n",
    "\n",
    "#Trigonmetric Functions\n",
    "arrTrig = np.array([0,np.pi/4,np.pi/2,np.pi])\n",
    "\n",
    "ressin =  np.sin(arrTrig)\n",
    "# print(ressin)\n",
    "\n",
    "#Exponential operations\n",
    "arr = np.array([2,4,5,1,5])\n",
    "res1 = np.exp(arr)\n",
    "res2 = np.log(arr)\n",
    "# print(res1,res2)\n",
    "\n",
    "# Broad Casting\n",
    "res = arr+2\n",
    "print(res)\n",
    "\n"
   ]
  },
  {
   "cell_type": "code",
   "execution_count": 45,
   "id": "d236b661-3660-4c3d-8625-e0f6d8e2b79c",
   "metadata": {},
   "outputs": [
    {
     "name": "stdout",
     "output_type": "stream",
     "text": [
      "[0.00000000e+00 7.07106781e-01 1.00000000e+00 1.22464680e-16]\n"
     ]
    }
   ],
   "source": [
    "# Array Manipulation\n"
   ]
  },
  {
   "cell_type": "code",
   "execution_count": null,
   "id": "4ed431ee-dd1f-4773-99ce-b13fdf893fb0",
   "metadata": {},
   "outputs": [],
   "source": []
  }
 ],
 "metadata": {
  "kernelspec": {
   "display_name": "Python 3 (ipykernel)",
   "language": "python",
   "name": "python3"
  },
  "language_info": {
   "codemirror_mode": {
    "name": "ipython",
    "version": 3
   },
   "file_extension": ".py",
   "mimetype": "text/x-python",
   "name": "python",
   "nbconvert_exporter": "python",
   "pygments_lexer": "ipython3",
   "version": "3.12.2"
  }
 },
 "nbformat": 4,
 "nbformat_minor": 5
}
