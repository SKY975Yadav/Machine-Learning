{
 "cells": [
  {
   "cell_type": "code",
   "execution_count": 1,
   "id": "23c4dd6b-9e9c-4022-b762-45cdf113e982",
   "metadata": {},
   "outputs": [],
   "source": [
    "import numpy as np"
   ]
  },
  {
   "cell_type": "code",
   "execution_count": 2,
   "id": "c0a7eb0d-afe4-4b76-b413-e41e180ab78e",
   "metadata": {},
   "outputs": [
    {
     "name": "stdout",
     "output_type": "stream",
     "text": [
      "[1 2 3]\n",
      "[[2]\n",
      " [4]\n",
      " [5]]\n"
     ]
    }
   ],
   "source": [
    "#row vector \n",
    "rowV = np.array([1,2,3])\n",
    "print(rowV)\n",
    "#column \n",
    "colV = np.array([[2],[4],[5]])\n",
    "print(colV)"
   ]
  },
  {
   "cell_type": "code",
   "execution_count": 3,
   "id": "0d548b24-bf3b-446d-a97d-8a2c27da9c10",
   "metadata": {},
   "outputs": [],
   "source": [
    "#Matrix representation\n",
    "A = np.array([[1, 2], [3, 4], [5, 6]])"
   ]
  },
  {
   "cell_type": "markdown",
   "id": "c3fc7f95-0644-4703-bfbc-db49927b491c",
   "metadata": {},
   "source": [
    "# Functions : "
   ]
  },
  {
   "cell_type": "code",
   "execution_count": 4,
   "id": "77e52198-019e-4833-826b-a1e254e09570",
   "metadata": {},
   "outputs": [],
   "source": [
    "# Tensor (higher dimentional 3d or more)\n",
    "T = np.array([[[1, 2], [3, 4]], [[5, 6], [7, 8]]])\n"
   ]
  },
  {
   "cell_type": "code",
   "execution_count": 6,
   "id": "8af91cf7-f89a-41ba-a28e-258f1cbf94b6",
   "metadata": {},
   "outputs": [
    {
     "name": "stdout",
     "output_type": "stream",
     "text": [
      "[[19 22]\n",
      " [43 50]]\n"
     ]
    }
   ],
   "source": [
    "A = np.array([[1, 2], [3, 4]])\n",
    "B = np.array([[5, 6], [7, 8]])\n",
    "result = np.dot(A, B)\n",
    "print(result)"
   ]
  },
  {
   "cell_type": "code",
   "execution_count": 12,
   "id": "28b81275-b302-4d4f-8595-d94da3545d49",
   "metadata": {},
   "outputs": [],
   "source": [
    "#Transpose\n",
    "A = np.array([[1, 2, 3], [4, 5, 6]])\n",
    "A_T = A.T"
   ]
  },
  {
   "cell_type": "code",
   "execution_count": 13,
   "id": "2f73ecb3-bb61-418b-bc39-013650a03eee",
   "metadata": {},
   "outputs": [],
   "source": [
    "# Determinent\n",
    "A = np.array([[1, 2], [3, 4]])\n",
    "det = np.linalg.det(A)"
   ]
  },
  {
   "cell_type": "code",
   "execution_count": 14,
   "id": "0a1e227e-c3fa-454e-a8c5-d033ad2880ff",
   "metadata": {},
   "outputs": [],
   "source": [
    "# inverse\n",
    "A = np.array([[1, 2], [3, 4]])\n",
    "inv_A = np.linalg.inv(A)"
   ]
  },
  {
   "cell_type": "code",
   "execution_count": 15,
   "id": "6c40aab0-214d-406f-a77d-9e8c5136fb5f",
   "metadata": {},
   "outputs": [],
   "source": [
    "# eigenvalues, eigenvectors\n",
    "A = np.array([[4, 1], [2, 3]])\n",
    "eigenvalues, eigenvectors = np.linalg.eig(A)"
   ]
  },
  {
   "cell_type": "code",
   "execution_count": 16,
   "id": "bc07e637-31eb-417b-976f-94be0bd1bf9c",
   "metadata": {},
   "outputs": [],
   "source": [
    "#Singular Value Decomposition (SVD) (np.linalg.svd): SVD is a factorization of a matrix and is widely used for dimensionality reduction, such as in Latent Semantic Analysis (LSA) or recommendation systems.\n",
    "U, S, V = np.linalg.svd(A)\n"
   ]
  },
  {
   "cell_type": "code",
   "execution_count": 18,
   "id": "b951cffb-5417-4edb-8a4d-e7ece3c60f9f",
   "metadata": {},
   "outputs": [
    {
     "name": "stdout",
     "output_type": "stream",
     "text": [
      "5.0\n"
     ]
    }
   ],
   "source": [
    "#Norms (np.linalg.norm): Norms measure the length or magnitude of vectors and are used in optimization problems. The L2 norm (Euclidean norm) is particularly important in machine learning algorithms such as linear regression.\n",
    "v = np.array([3, 4])\n",
    "norm_v = np.linalg.norm(v)\n",
    "print(norm_v)"
   ]
  },
  {
   "cell_type": "code",
   "execution_count": null,
   "id": "5011054e-c258-4cdd-a721-737d44170960",
   "metadata": {},
   "outputs": [],
   "source": [
    "#Solving Linear Equations (np.linalg.solve): Solving systems of linear equations is a key problem in optimization and machine learning. For a system Ax = b, you can find the solution x using:\n",
    "A = np.array([[3, 1], [1, 2]])\n",
    "b = np.array([9, 8])\n",
    "x = np.linalg.solve(A, b)"
   ]
  }
 ],
 "metadata": {
  "kernelspec": {
   "display_name": "Python 3 (ipykernel)",
   "language": "python",
   "name": "python3"
  },
  "language_info": {
   "codemirror_mode": {
    "name": "ipython",
    "version": 3
   },
   "file_extension": ".py",
   "mimetype": "text/x-python",
   "name": "python",
   "nbconvert_exporter": "python",
   "pygments_lexer": "ipython3",
   "version": "3.12.2"
  }
 },
 "nbformat": 4,
 "nbformat_minor": 5
}
